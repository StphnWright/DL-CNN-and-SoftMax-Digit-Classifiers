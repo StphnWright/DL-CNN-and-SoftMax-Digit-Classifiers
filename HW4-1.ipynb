{
  "cells": [
    {
      "cell_type": "markdown",
      "metadata": {
        "id": "pP7HoV2ua3v2"
      },
      "source": [
        "# Deep Learning for Computer Vision:  HW 4"
      ]
    },
    {
      "cell_type": "markdown",
      "metadata": {
        "id": "nOUnoFGNa3v4"
      },
      "source": [
        "## Computer Science: COMS W 4995 006"
      ]
    },
    {
      "cell_type": "markdown",
      "metadata": {
        "id": "W8fdsb62a3v5"
      },
      "source": [
        "### Due: November 1, 2022\n",
        "\n",
        "### Problem"
      ]
    },
    {
      "cell_type": "markdown",
      "metadata": {
        "id": "ucWFpUsIa3v5"
      },
      "source": [
        "1. In this notebook we provide three networks for classifying handwritten digits from the MNIST dataset. The networks are implemented and tested using the Tensorflow framework. The third and final network is a convolutional neural network (CNN aka ConvNet) which achieves 99.18% accuracy on this dataset. \n",
        "\n",
        "    Your task is to re-implement all three networks using Pytorch. You will likely find several Pytorch implementations on the internet. It is ok to study these. However, you must not cut and paste this code into your assignment--you must write this yourself. Furthermore, you need to comment every line of code and succintly explain what it is doing! \n",
        "\n",
        "    Here is what is required:\n",
        "\n",
        "    a) A FULLY commented re-implementation of the networks below using Pytorch.\n",
        "\n",
        "    b) your network trained on the same MNIST data as used here.\n",
        "\n",
        "    c) an evaluation of the accuracy on the MNIST test set.\n",
        "\n",
        "    d) plots of 10 randomly selected digits from the test set along with the correct label and the assigned label.\n",
        "\n",
        "    e) have your training record a log of the validation loss and validation accuracy. \n",
        "\n",
        "    f) have your training continually save the best model so far (as determined by the validation loss).\n",
        "\n",
        "    g) after training, load the saved weights using the best model so far. re-run you accuracy evaluation using these saved weights.\n",
        "\n",
        "    Below we include the Tensorflow examples shown in class.  \n",
        "   <p>&nbsp;</p> \n",
        "\n",
        "2. (EXTRA CREDIT): Redo Problem 1 coding up your network in JAX. You must write the code yourself. This problem is extra credit and you are on your own if you decide to try this. Please do not ask the professor or the TAs on how to do this. Write a paragraph commenting on your experience with JAX.\n",
        "<p>&nbsp;</p> \n",
        "\n",
        "3. (EXTRA CREDIT): Redo Problem 1 coding up your network in Flashlight. You must write the code yourself. This problem is extra credit and you are on your own if you decide to try this. Please do not ask the professor or the TAs on how to do this. Write a paragraph commenting on your experience with Flashlight."
      ]
    },
    {
      "cell_type": "markdown",
      "source": [
        "### A Simple Convolutional Neural Network in PyTorch"
      ],
      "metadata": {
        "id": "3HkQikpbF8ME"
      }
    },
    {
      "cell_type": "markdown",
      "metadata": {
        "id": "xF9ZJYMTa3v6"
      },
      "source": [
        "This notebook covers a PyTorch-based solution to the handwritten digits recognition problem, comparing a simple softmax regressor, multi-layer perceptron (MLP), and a simple convolutional neural network (CNN)."
      ]
    },
    {
      "cell_type": "markdown",
      "source": [
        "Import PyTorch, as well as other helper libraries (numpy, plotting functions from matlplotlib, and copy to save the best model)."
      ],
      "metadata": {
        "id": "Ql8k92Ma48ri"
      }
    },
    {
      "cell_type": "code",
      "source": [
        "import torch\n",
        "import torch.nn.functional as F\n",
        "import numpy as np\n",
        "import matplotlib.pyplot as plt\n",
        "import copy"
      ],
      "metadata": {
        "id": "G_a3YgqVbAdz"
      },
      "execution_count": 1,
      "outputs": []
    },
    {
      "cell_type": "markdown",
      "metadata": {
        "id": "d9nm-KZDa3v7"
      },
      "source": [
        "Load the MNIST digit dataset using PyTorch. In PyTorch, the dataset is split into 60,000 data points of training and validation data, and 10,000 points of test data. The training and validation set is then randomly split into a training set of 55,000 points and a validation set of 5,000 points."
      ]
    },
    {
      "cell_type": "code",
      "source": [
        "from torchvision import datasets, transforms\n",
        "from torch.utils.data import Subset\n",
        "\n",
        "mnist_transform = transforms.Compose([transforms.ToTensor(),transforms.Normalize((0.1307,), (0.3081,))]) \n",
        "mnist_train_and_validation = datasets.MNIST('./data', train = True, download = True, transform = mnist_transform)\n",
        "mnist_test = datasets.MNIST('./data', train = False, download = True, transform = mnist_transform)\n",
        "\n",
        "valid_idx = np.random.choice(60000, 5000, replace=False)\n",
        "train_idx = [x for x in range(60000) if x not in valid_idx]\n",
        "mnist_train = Subset(mnist_train_and_validation, range(55000))\n",
        "mnist_valid = Subset(mnist_train_and_validation, range(55000, 60000))"
      ],
      "metadata": {
        "id": "Go0C78yEa_G1"
      },
      "execution_count": 30,
      "outputs": []
    },
    {
      "cell_type": "markdown",
      "metadata": {
        "id": "4FKFxgdDa3v9"
      },
      "source": [
        "Create objects to load batches of data from the MNIST dataset (train, validation, and test). This class automates iterating through the batches, resetting the iterator when the dataset has been completely cycled through, and resizing the tensors appropriately depending on the application. The class is designed to replicate some of the functionality in the next_batch method in TensorFlow."
      ]
    },
    {
      "cell_type": "code",
      "source": [
        "class TorchBatchLoader():\n",
        "    def __init__(self, dataset, batch_size = 100, shuffle = True):\n",
        "        # Load the dataset\n",
        "        self.dataset = dataset\n",
        "        # Reset the other parameters\n",
        "        self.reset(batch_size, shuffle)\n",
        "\n",
        "    def _reset_iterator(self, reset_loader = False):\n",
        "        # Generate a new iterator\n",
        "        self.iterator = torch.utils.data.DataLoader(self.dataset, self.batch_size, self.shuffle).__iter__()\n",
        "        # Reset the count of samples iterated \n",
        "        self.samples_iterated = 0\n",
        "        # Update the count of the number of times that the iterator has been reset since inception\n",
        "        if (reset_loader):\n",
        "            self.reset_count = 0\n",
        "        else:\n",
        "            self.reset_count += 1\n",
        "\n",
        "    def completed(self):\n",
        "        return (self.reset_count > 0)\n",
        "\n",
        "    def next_batch(self, format_cnn = False):\n",
        "        # Reset the iterator if there aren't enough samples left for a full batch\n",
        "        if (len(self.dataset) - self.samples_iterated < self.batch_size):\n",
        "            self._reset_iterator()\n",
        "        \n",
        "        # Load the next batch\n",
        "        images, labels = self.iterator.next()\n",
        "        self.samples_iterated += self.batch_size\n",
        "\n",
        "        # Process the images according to the desired format\n",
        "        if format_cnn:\n",
        "            # For use in the CNN (28 x 28 tensor)\n",
        "            images.resize_(self.batch_size, 1, 28, 28)\n",
        "        else:\n",
        "            # For use in a regular NN (784 x 1 tensor)\n",
        "            images = torch.squeeze(images)\n",
        "            images.resize_(self.batch_size, 784)\n",
        "        return images, labels\n",
        "\n",
        "    def reset(self, batch_size = 100, shuffle = True):\n",
        "        # Reset batch_size and shuffle\n",
        "        self.batch_size = batch_size\n",
        "        self.shuffle = shuffle\n",
        "\n",
        "        # Reset the iterator\n",
        "        self._reset_iterator(reset_loader = True)\n",
        "\n",
        "# Define loaders for the training, validation, and test datasets\n",
        "data_train = TorchBatchLoader(mnist_train)\n",
        "data_valid = TorchBatchLoader(mnist_valid)\n",
        "data_test = TorchBatchLoader(mnist_test)"
      ],
      "metadata": {
        "id": "4zyZLS2feXCE"
      },
      "execution_count": 3,
      "outputs": []
    },
    {
      "cell_type": "markdown",
      "source": [
        "Define some common functions."
      ],
      "metadata": {
        "id": "Xuhoj-gy2zIn"
      }
    },
    {
      "cell_type": "code",
      "source": [
        "def train_model(model, optimizer, loss_fn, batch_size = 100, format_cnn = False, num_batches = 1000, progress_interval = 100):\n",
        "    # Create data loader\n",
        "    data_train.reset(batch_size)\n",
        "    # Load the validation set\n",
        "    data_valid.reset(batch_size = 5000)\n",
        "    valid_images, valid_labels = data_valid.next_batch(format_cnn)\n",
        "    # Record the best model\n",
        "    best_model = []\n",
        "    best_valid_acc = 0\n",
        "    best_valid_loss = 0\n",
        "    # Log validation accuracy and loss\n",
        "    valid_acc_list = []\n",
        "    valid_loss_list = []\n",
        "    # Train over batches (when the end of the dataset is reached, the data loader \n",
        "    # automatically resets\n",
        "    for e in range(num_batches):\n",
        "        # Load batch\n",
        "        train_images, train_labels = data_train.next_batch(format_cnn)\n",
        "        # Predict on the training data\n",
        "        train_pred_labels = model(train_images)\n",
        "        # Compute training loss\n",
        "        train_loss = loss_fn(train_pred_labels, train_labels)\n",
        "        # Reset the gradient and back-propagate\n",
        "        optimizer.zero_grad()\n",
        "        train_loss.backward()\n",
        "        # Update parameters\n",
        "        optimizer.step()\n",
        "\n",
        "        # Now predict on the validation data\n",
        "        valid_pred_labels = model(valid_images)\n",
        "        # Evaluate validation loss\n",
        "        valid_loss = loss_fn(valid_pred_labels, valid_labels).item()\n",
        "        valid_loss_list.append(valid_loss)\n",
        "        # Evaluate validation accuracy\n",
        "        valid_acc = accuracy_calc(valid_pred_labels, valid_labels)\n",
        "        valid_acc_list.append(valid_acc)\n",
        "        # If the current model performs better than the previous best on the \n",
        "        # validation set, update the best model to this one\n",
        "        if (valid_acc > best_valid_acc):\n",
        "            best_model = copy.deepcopy(model)\n",
        "            best_valid_acc = valid_acc\n",
        "            best_valid_loss = valid_loss\n",
        "\n",
        "        # Display progress\n",
        "        if (e % progress_interval == 0):\n",
        "            train_acc = accuracy_calc(train_pred_labels, train_labels)\n",
        "            print(f'Batch {e:d}, training accuracy {train_acc:.1f}%, training loss {train_loss:f}')\n",
        "    \n",
        "    # Display the characteristics of the best model\n",
        "    print(f'Best model: validation accuracy {best_valid_acc:.1f}%, validation loss {best_valid_loss:f}')\n",
        "\n",
        "    # Plot results\n",
        "    COLOR_ACC = 'r'\n",
        "    COLOR_LOSS = 'b'\n",
        "    fig, ax1 = plt.subplots(figsize=(8, 8))\n",
        "    ax2 = ax1.twinx()\n",
        "    ax1.plot(valid_acc_list, color=COLOR_ACC)\n",
        "    ax2.plot(valid_loss_list, color=COLOR_LOSS)\n",
        "    ax1.set_xlabel(\"Training batch\")\n",
        "    ax1.set_ylabel(\"Accuracy (%)\", color=COLOR_ACC)\n",
        "    ax1.tick_params(axis=\"y\", labelcolor=COLOR_ACC)\n",
        "    ax2.set_ylabel(\"Loss\", color=COLOR_LOSS)\n",
        "    ax2.tick_params(axis=\"y\", labelcolor=COLOR_LOSS)\n",
        "\n",
        "    # Done\n",
        "    return best_model, valid_acc_list, valid_loss_list    \n",
        "\n",
        "# Function to calculate accuracy from correct predictions\n",
        "def accuracy_calc(y_pred, y_true):\n",
        "    correct_predictions = torch.eq(torch.argmax(torch.Tensor(y_pred),1), torch.Tensor(y_true))\n",
        "    return 100*torch.mean(torch.Tensor.to(correct_predictions,dtype = torch.float32))\n",
        "\n",
        "# Calculate the accuracy of a trained model on the test dataset\n",
        "def accuracy_test(model, batch_size = 100, format_cnn = False):\n",
        "    # Initialize accuracy list (one accuracy figure per batch)\n",
        "    accuracies = []\n",
        "\n",
        "    # Reset the test data loader and load the first batch\n",
        "    data_test.reset(batch_size)\n",
        "    images, labels = data_test.next_batch(format_cnn)\n",
        "\n",
        "    # Keep iterating until the end of the test dataset is reached \n",
        "    while (not data_test.completed()):\n",
        "        # Compute accuracy and add the figure to the list\n",
        "        accuracies.append(accuracy_calc(model(images), labels))\n",
        "        # Next batch (loader will reset if we've cycled through the whole test set)\n",
        "        images, labels = data_test.next_batch(format_cnn)\n",
        "\n",
        "    # Print average accuracy across all batches of test data\n",
        "    acc = np.mean(np.array(accuracies))\n",
        "    print(f'The accuracy of the model is {acc:.1f}%')\n",
        "\n",
        "# Plot a range of test images and, if supplied, predictions from a model\n",
        "def plot_test_images(model = None, format_cnn = False, num_images = 10):\n",
        "    # Reset the test data loader to load one image at a time\n",
        "    data_test.reset(batch_size = 1)\n",
        "    \n",
        "    # Plot the number of images requested\n",
        "    for i in range(num_images):\n",
        "        # Load the next image\n",
        "        image, label = data_test.next_batch(format_cnn)\n",
        "        \n",
        "        # Plot the image\n",
        "        plt.imshow(torch.reshape(image, (28,28)), cmap='gray')     \n",
        "        plt.axis(\"off\")\n",
        "        plt.show()\n",
        "        \n",
        "        # Print the true label from the dataset\n",
        "        print(f'Label: {label[0].item():d}')\n",
        "\n",
        "        # If a model is supplied, output class probabilities and the predicted label\n",
        "        if (model is not None):\n",
        "            # Get class probabilities and display them\n",
        "            y_probs_fn = torch.nn.Softmax(dim = 1)\n",
        "            pred_probs = y_probs_fn(model(image)).tolist()\n",
        "            pred_probs_str = ', '.join([f'{p:.3e}' for p in pred_probs[0]])\n",
        "            print('Class probabilities: ' + pred_probs_str)\n",
        "\n",
        "            # Output the predicted class (the one with the highest class probability)\n",
        "            print(f'Predicted class: {np.argmax(pred_probs):d}')"
      ],
      "metadata": {
        "id": "R8fGIYfM25iz"
      },
      "execution_count": 4,
      "outputs": []
    },
    {
      "cell_type": "markdown",
      "metadata": {
        "id": "4F8t1F0xa3v9"
      },
      "source": [
        "## Softmax Regression Model on the MNIST Digits Dataset"
      ]
    },
    {
      "cell_type": "markdown",
      "source": [
        "Now let's see what this data looks like..."
      ],
      "metadata": {
        "id": "lsxqP2UxlMv5"
      }
    },
    {
      "cell_type": "code",
      "execution_count": 5,
      "metadata": {
        "colab": {
          "base_uri": "https://localhost:8080/",
          "height": 1000
        },
        "id": "aMmu-Uo0a3v-",
        "outputId": "f483c682-fea3-4b31-baec-72a11836b0d6"
      },
      "outputs": [
        {
          "output_type": "display_data",
          "data": {
            "text/plain": [
              "<Figure size 432x288 with 1 Axes>"
            ],
            "image/png": "[encoded data removed]"
          },
          "metadata": {
            "needs_background": "light"
          }
        },
        {
          "output_type": "stream",
          "name": "stdout",
          "text": [
            "Label: 7\n"
          ]
        },
        {
          "output_type": "display_data",
          "data": {
            "text/plain": [
              "<Figure size 432x288 with 1 Axes>"
            ],
            "image/png": "[encoded data removed]"
          },
          "metadata": {
            "needs_background": "light"
          }
        },
        {
          "output_type": "stream",
          "name": "stdout",
          "text": [
            "Label: 6\n"
          ]
        },
        {
          "output_type": "display_data",
          "data": {
            "text/plain": [
              "<Figure size 432x288 with 1 Axes>"
            ],
            "image/png": "[encoded data removed]"
          },
          "metadata": {
            "needs_background": "light"
          }
        },
        {
          "output_type": "stream",
          "name": "stdout",
          "text": [
            "Label: 7\n"
          ]
        },
        {
          "output_type": "display_data",
          "data": {
            "text/plain": [
              "<Figure size 432x288 with 1 Axes>"
            ],
            "image/png": "[encoded data removed]"
          },
          "metadata": {
            "needs_background": "light"
          }
        },
        {
          "output_type": "stream",
          "name": "stdout",
          "text": [
            "Label: 2\n"
          ]
        },
        {
          "output_type": "display_data",
          "data": {
            "text/plain": [
              "<Figure size 432x288 with 1 Axes>"
            ],
            "image/png": "[encoded data removed]"
          },
          "metadata": {
            "needs_background": "light"
          }
        },
        {
          "output_type": "stream",
          "name": "stdout",
          "text": [
            "Label: 2\n"
          ]
        },
        {
          "output_type": "display_data",
          "data": {
            "text/plain": [
              "<Figure size 432x288 with 1 Axes>"
            ],
            "image/png": "[encoded data removed]"
          },
          "metadata": {
            "needs_background": "light"
          }
        },
        {
          "output_type": "stream",
          "name": "stdout",
          "text": [
            "Label: 3\n"
          ]
        },
        {
          "output_type": "display_data",
          "data": {
            "text/plain": [
              "<Figure size 432x288 with 1 Axes>"
            ],
            "image/png": "[encoded data removed]"
          },
          "metadata": {
            "needs_background": "light"
          }
        },
        {
          "output_type": "stream",
          "name": "stdout",
          "text": [
            "Label: 8\n"
          ]
        },
        {
          "output_type": "display_data",
          "data": {
            "text/plain": [
              "<Figure size 432x288 with 1 Axes>"
            ],
            "image/png": "[encoded data removed]"
          },
          "metadata": {
            "needs_background": "light"
          }
        },
        {
          "output_type": "stream",
          "name": "stdout",
          "text": [
            "Label: 7\n"
          ]
        },
        {
          "output_type": "display_data",
          "data": {
            "text/plain": [
              "<Figure size 432x288 with 1 Axes>"
            ],
            "image/png": "[encoded data removed]"
          },
          "metadata": {
            "needs_background": "light"
          }
        },
        {
          "output_type": "stream",
          "name": "stdout",
          "text": [
            "Label: 6\n"
          ]
        },
        {
          "output_type": "display_data",
          "data": {
            "text/plain": [
              "<Figure size 432x288 with 1 Axes>"
            ],
            "image/png": "[encoded data removed]"
          },
          "metadata": {
            "needs_background": "light"
          }
        },
        {
          "output_type": "stream",
          "name": "stdout",
          "text": [
            "Label: 7\n"
          ]
        }
      ],
      "source": [
        "plot_test_images()"
      ]
    },
    {
      "cell_type": "markdown",
      "metadata": {
        "id": "j2qJyHtWa3v-"
      },
      "source": [
        "We are first going to do softmax logistic regression. This is a linear layer followed by softmax. Note there are NO hidden layers here. Also note that the digit images (28x28 grayscale images) are reshaped into a 784 element vector. "
      ]
    },
    {
      "cell_type": "markdown",
      "metadata": {
        "id": "IOPyqkdua3v_"
      },
      "source": [
        "Below we create the parameters (weights) for our linear layer."
      ]
    },
    {
      "cell_type": "code",
      "execution_count": 6,
      "metadata": {
        "collapsed": true,
        "id": "rCvt5siZa3v_"
      },
      "outputs": [],
      "source": [
        "y_regressor = torch.nn.Linear(784, 10)"
      ]
    },
    {
      "cell_type": "markdown",
      "metadata": {
        "id": "8iIGW7xRa3v_"
      },
      "source": [
        "We then initialize the weights and biases to zero."
      ]
    },
    {
      "cell_type": "code",
      "execution_count": 7,
      "metadata": {
        "collapsed": true,
        "id": "gXO-3aI5a3v_"
      },
      "outputs": [],
      "source": [
        "torch.nn.init.zeros_(y_regressor.weight)\n",
        "t = torch.nn.init.zeros_(y_regressor.bias)"
      ]
    },
    {
      "cell_type": "markdown",
      "metadata": {
        "id": "mwOkj89aa3v_"
      },
      "source": [
        "We create our network, which has only the aforemntioned linear layer."
      ]
    },
    {
      "cell_type": "code",
      "execution_count": 8,
      "metadata": {
        "collapsed": true,
        "id": "aWqxNBHUa3wA"
      },
      "outputs": [],
      "source": [
        "model_sr = torch.nn.Sequential(y_regressor)"
      ]
    },
    {
      "cell_type": "markdown",
      "metadata": {
        "id": "-CnSAfIHa3wA"
      },
      "source": [
        "Below we create our loss function. Note that the cross entropy is $ H_{\\hat{y}}(y) = -\\sum_i \\hat{y}_{i} \\, \\log(y_{i})$ where $\\hat{y}$ is the true probability distribution and is expressed as a one-hot vector, $y$ is the estimated probability distribution, and $i$ indexes elements of these two vectors. Also note that this reduces to $ H_{\\hat{y}}(y) = -\\, \\log(y_{i^*})$ where $i^*$ is the correct label. And if we sum this over all of our samples indexed by $j$, then $H_{\\hat{y}}(y) = -\\sum_j  \\log(y^{(j)}_{i^*})$. This is precisely the same loss function as we used before, but we called the MLE loss. They are one and the same."
      ]
    },
    {
      "cell_type": "code",
      "execution_count": 9,
      "metadata": {
        "collapsed": true,
        "id": "eVHa1qHxa3wA"
      },
      "outputs": [],
      "source": [
        "loss_fn_sr = torch.nn.CrossEntropyLoss(reduction = 'mean')"
      ]
    },
    {
      "cell_type": "markdown",
      "metadata": {
        "id": "TAGKsQX2a3wA"
      },
      "source": [
        "Now we tell PyTorch to use Stochastic Gradient Descent (SGD) with a step size of 0.5."
      ]
    },
    {
      "cell_type": "code",
      "execution_count": 10,
      "metadata": {
        "collapsed": true,
        "id": "PUgIgYu4a3wA"
      },
      "outputs": [],
      "source": [
        "optim_sr = torch.optim.SGD(model_sr.parameters(), lr = 0.5)"
      ]
    },
    {
      "cell_type": "markdown",
      "metadata": {
        "id": "zpDxbtVea3wA"
      },
      "source": [
        "We train by grabbing mini-batches with 100 samples each, pushing these through the network, computing the loss, and backpropagating to update model parameters (in this case, the weights and biases in the linear layer)."
      ]
    },
    {
      "cell_type": "code",
      "execution_count": 11,
      "metadata": {
        "collapsed": true,
        "colab": {
          "base_uri": "https://localhost:8080/",
          "height": 693
        },
        "id": "E48QKEy7a3wA",
        "outputId": "c2a32719-407d-433d-aa38-0bead1ae9a45"
      },
      "outputs": [
        {
          "output_type": "stream",
          "name": "stdout",
          "text": [
            "Batch 0, training accuracy 13.0%, training loss 2.302585\n",
            "Batch 100, training accuracy 86.0%, training loss 1.060962\n",
            "Batch 200, training accuracy 83.0%, training loss 0.793021\n",
            "Batch 300, training accuracy 76.0%, training loss 1.614426\n",
            "Batch 400, training accuracy 85.0%, training loss 0.950697\n",
            "Batch 500, training accuracy 91.0%, training loss 0.956676\n",
            "Batch 600, training accuracy 86.0%, training loss 0.581585\n",
            "Batch 700, training accuracy 80.0%, training loss 0.966287\n",
            "Batch 800, training accuracy 89.0%, training loss 0.604547\n",
            "Batch 900, training accuracy 88.0%, training loss 0.552309\n",
            "Best model: validation accuracy 92.6%, validation loss 0.431353\n"
          ]
        },
        {
          "output_type": "display_data",
          "data": {
            "text/plain": [
              "<Figure size 576x576 with 2 Axes>"
            ],
            "image/png": "[encoded data removed]"
          },
          "metadata": {
            "needs_background": "light"
          }
        }
      ],
      "source": [
        "best_model_sr, valid_acc_list_sr, valid_loss_list_sr = train_model(model_sr, optim_sr, loss_fn_sr)"
      ]
    },
    {
      "cell_type": "markdown",
      "metadata": {
        "id": "9Ad35-sMa3wA"
      },
      "source": [
        "Compute accuracy on the test set."
      ]
    },
    {
      "cell_type": "code",
      "source": [
        "accuracy_test(best_model_sr)"
      ],
      "metadata": {
        "colab": {
          "base_uri": "https://localhost:8080/"
        },
        "id": "UZURh-N0Vccg",
        "outputId": "cbb2e45a-7ac8-4e4d-bc4f-86d9c28d29c4"
      },
      "execution_count": 12,
      "outputs": [
        {
          "output_type": "stream",
          "name": "stdout",
          "text": [
            "The accuracy of the model is 90.5%\n"
          ]
        }
      ]
    },
    {
      "cell_type": "markdown",
      "metadata": {
        "id": "7KVRmX5ka3wB"
      },
      "source": [
        "Print out some test images and the corresponding predictions made by the network. "
      ]
    },
    {
      "cell_type": "code",
      "execution_count": 13,
      "metadata": {
        "id": "o6edh1eja3wB",
        "colab": {
          "base_uri": "https://localhost:8080/",
          "height": 1000
        },
        "outputId": "9656d5ae-87e2-412f-e65a-c0a4d27426f3"
      },
      "outputs": [
        {
          "output_type": "display_data",
          "data": {
            "text/plain": [
              "<Figure size 432x288 with 1 Axes>"
            ],
            "image/png": "[encoded data removed]"
          },
          "metadata": {
            "needs_background": "light"
          }
        },
        {
          "output_type": "stream",
          "name": "stdout",
          "text": [
            "Label: 0\n",
            "Class probabilities: 1.000e+00, 4.320e-22, 1.642e-06, 1.259e-10, 5.616e-17, 1.351e-10, 1.519e-09, 3.030e-14, 2.005e-08, 1.240e-10\n",
            "Predicted class: 0\n"
          ]
        },
        {
          "output_type": "display_data",
          "data": {
            "text/plain": [
              "<Figure size 432x288 with 1 Axes>"
            ],
            "image/png": "[encoded data removed]"
          },
          "metadata": {
            "needs_background": "light"
          }
        },
        {
          "output_type": "stream",
          "name": "stdout",
          "text": [
            "Label: 3\n",
            "Class probabilities: 6.868e-13, 1.782e-10, 1.697e-09, 1.000e+00, 1.696e-11, 1.754e-05, 3.546e-10, 6.433e-15, 8.188e-08, 6.029e-07\n",
            "Predicted class: 3\n"
          ]
        },
        {
          "output_type": "display_data",
          "data": {
            "text/plain": [
              "<Figure size 432x288 with 1 Axes>"
            ],
            "image/png": "[encoded data removed]"
          },
          "metadata": {
            "needs_background": "light"
          }
        },
        {
          "output_type": "stream",
          "name": "stdout",
          "text": [
            "Label: 0\n",
            "Class probabilities: 1.000e+00, 7.086e-17, 2.336e-05, 1.338e-07, 8.465e-10, 3.884e-06, 7.418e-06, 3.449e-10, 4.666e-08, 4.212e-06\n",
            "Predicted class: 0\n"
          ]
        },
        {
          "output_type": "display_data",
          "data": {
            "text/plain": [
              "<Figure size 432x288 with 1 Axes>"
            ],
            "image/png": "[encoded data removed]"
          },
          "metadata": {
            "needs_background": "light"
          }
        },
        {
          "output_type": "stream",
          "name": "stdout",
          "text": [
            "Label: 2\n",
            "Class probabilities: 1.013e-11, 4.079e-04, 9.994e-01, 2.712e-05, 6.126e-14, 2.807e-05, 1.209e-08, 5.123e-12, 1.014e-04, 6.580e-13\n",
            "Predicted class: 2\n"
          ]
        },
        {
          "output_type": "display_data",
          "data": {
            "text/plain": [
              "<Figure size 432x288 with 1 Axes>"
            ],
            "image/png": "[encoded data removed]"
          },
          "metadata": {
            "needs_background": "light"
          }
        },
        {
          "output_type": "stream",
          "name": "stdout",
          "text": [
            "Label: 0\n",
            "Class probabilities: 9.972e-01, 5.331e-14, 2.789e-03, 7.348e-10, 9.169e-18, 2.070e-14, 9.243e-07, 6.448e-06, 3.522e-12, 6.804e-07\n",
            "Predicted class: 0\n"
          ]
        },
        {
          "output_type": "display_data",
          "data": {
            "text/plain": [
              "<Figure size 432x288 with 1 Axes>"
            ],
            "image/png": "[encoded data removed]"
          },
          "metadata": {
            "needs_background": "light"
          }
        },
        {
          "output_type": "stream",
          "name": "stdout",
          "text": [
            "Label: 5\n",
            "Class probabilities: 2.442e-08, 1.660e-10, 5.344e-09, 2.579e-04, 1.567e-18, 9.997e-01, 8.707e-11, 1.006e-13, 2.916e-10, 6.490e-13\n",
            "Predicted class: 5\n"
          ]
        },
        {
          "output_type": "display_data",
          "data": {
            "text/plain": [
              "<Figure size 432x288 with 1 Axes>"
            ],
            "image/png": "[encoded data removed]"
          },
          "metadata": {
            "needs_background": "light"
          }
        },
        {
          "output_type": "stream",
          "name": "stdout",
          "text": [
            "Label: 8\n",
            "Class probabilities: 5.791e-17, 3.898e-16, 2.004e-11, 8.752e-10, 2.383e-14, 2.760e-07, 4.915e-15, 3.742e-15, 1.000e+00, 1.021e-08\n",
            "Predicted class: 8\n"
          ]
        },
        {
          "output_type": "display_data",
          "data": {
            "text/plain": [
              "<Figure size 432x288 with 1 Axes>"
            ],
            "image/png": "[encoded data removed]"
          },
          "metadata": {
            "needs_background": "light"
          }
        },
        {
          "output_type": "stream",
          "name": "stdout",
          "text": [
            "Label: 8\n",
            "Class probabilities: 1.654e-10, 2.271e-08, 8.088e-07, 7.571e-17, 2.378e-01, 1.670e-09, 7.587e-01, 1.592e-12, 9.249e-04, 2.554e-03\n",
            "Predicted class: 6\n"
          ]
        },
        {
          "output_type": "display_data",
          "data": {
            "text/plain": [
              "<Figure size 432x288 with 1 Axes>"
            ],
            "image/png": "[encoded data removed]"
          },
          "metadata": {
            "needs_background": "light"
          }
        },
        {
          "output_type": "stream",
          "name": "stdout",
          "text": [
            "Label: 5\n",
            "Class probabilities: 1.914e-09, 7.453e-04, 3.842e-02, 2.790e-02, 1.163e-15, 2.137e-02, 9.115e-01, 2.129e-12, 5.731e-05, 5.425e-10\n",
            "Predicted class: 6\n"
          ]
        },
        {
          "output_type": "display_data",
          "data": {
            "text/plain": [
              "<Figure size 432x288 with 1 Axes>"
            ],
            "image/png": "[encoded data removed]"
          },
          "metadata": {
            "needs_background": "light"
          }
        },
        {
          "output_type": "stream",
          "name": "stdout",
          "text": [
            "Label: 5\n",
            "Class probabilities: 1.100e-04, 3.018e-15, 1.921e-04, 5.224e-16, 9.054e-01, 1.893e-03, 9.226e-02, 1.530e-18, 9.294e-05, 1.056e-06\n",
            "Predicted class: 4\n"
          ]
        }
      ],
      "source": [
        "plot_test_images(best_model_sr)"
      ]
    },
    {
      "cell_type": "markdown",
      "metadata": {
        "id": "n1uX-u7Ra3wC"
      },
      "source": [
        "## Softmax Multi-Layer Perceptron on the MNIST Digits Data"
      ]
    },
    {
      "cell_type": "markdown",
      "metadata": {
        "id": "GyKeIurka3wC"
      },
      "source": [
        "Here the weights are distributed according to a standard normal distribution (mean = 0, std = 0.1). This random initialization helps avoid hidden units get stuck together, as units that start with the same value will be updated identically in the non-convolutional layers. In contrast, the bias variables are set to a small positive number--this is help prevent hidden units from starting out and getting stuck in the zero part of the ReLU.\n",
        "The limits of the truncated normal are -0.2 and 0.2, which corresponds to two standard deviations on either side of the mean (this is the default in TensorFlow for a truncated normal)."
      ]
    },
    {
      "cell_type": "markdown",
      "metadata": {
        "id": "zNsSKhGca3wC"
      },
      "source": [
        "We create the first hidden layer (i.e., the input layer) with 512 neurons, and we initialize the layer weights as described above."
      ]
    },
    {
      "cell_type": "code",
      "execution_count": 14,
      "metadata": {
        "id": "d1d1eBTda3wC"
      },
      "outputs": [],
      "source": [
        "# Create layer (784 input elements, 512 neurons)\n",
        "h = torch.nn.Linear(784, 512)\n",
        "\n",
        "# Initialize the weights by sampling from a truncated normal distribution with \n",
        "# mean 0, standard deviation 0.1, and limits two standard deviations from \n",
        "# the mean (-0.2 to 0.2)\n",
        "torch.nn.init.trunc_normal_(h.weight, std = 0.1, a = -0.2, b = 0.2) \n",
        "\n",
        "# Initialize biases to 0.1\n",
        "t = torch.nn.init.constant_(h.bias, 0.1)"
      ]
    },
    {
      "cell_type": "markdown",
      "source": [
        "Create a ReLU layer to follow the input layer."
      ],
      "metadata": {
        "id": "N4CEu8kPxHLd"
      }
    },
    {
      "cell_type": "code",
      "source": [
        "h_relu = torch.nn.ReLU()"
      ],
      "metadata": {
        "id": "Grq7KiK8xGkX"
      },
      "execution_count": 15,
      "outputs": []
    },
    {
      "cell_type": "markdown",
      "metadata": {
        "id": "bY4afSuda3wD"
      },
      "source": [
        "We create the output layer and initialize its weights and biases in the same way as the hidden layer."
      ]
    },
    {
      "cell_type": "code",
      "execution_count": 16,
      "metadata": {
        "collapsed": true,
        "id": "6-qipKP2a3wD"
      },
      "outputs": [],
      "source": [
        "h_out = torch.nn.Linear(512, 10)\n",
        "torch.nn.init.trunc_normal_(h_out.weight, std = 0.1, a = -0.2, b = 0.2) \n",
        "t = torch.nn.init.constant_(h_out.bias, 0.1)"
      ]
    },
    {
      "cell_type": "markdown",
      "source": [
        "Create the model by assembling the layers defined above. As before, we use cross entropy loss. For training, we choose an Adam learning rate and update rule."
      ],
      "metadata": {
        "id": "-eZBExVZAd1A"
      }
    },
    {
      "cell_type": "code",
      "source": [
        "model_mlp = torch.nn.Sequential(h, h_relu, h_out)\n",
        "loss_fn_mlp = torch.nn.CrossEntropyLoss(reduction = 'mean')\n",
        "optim_mlp = torch.optim.Adam(model_mlp.parameters(), lr = 1e-4)"
      ],
      "metadata": {
        "id": "o1Xz_F9cAhv1"
      },
      "execution_count": 17,
      "outputs": []
    },
    {
      "cell_type": "markdown",
      "source": [
        "Train the model."
      ],
      "metadata": {
        "id": "BqpjA2qPAlmt"
      }
    },
    {
      "cell_type": "code",
      "execution_count": 18,
      "metadata": {
        "scrolled": false,
        "id": "vnrBbD2ja3wD",
        "outputId": "92ecea5e-fa25-40e0-d294-06b24cfb4d03",
        "colab": {
          "base_uri": "https://localhost:8080/",
          "height": 693
        }
      },
      "outputs": [
        {
          "output_type": "stream",
          "name": "stdout",
          "text": [
            "Batch 0, training accuracy 0.0%, training loss 6.047276\n",
            "Batch 100, training accuracy 64.0%, training loss 1.087532\n",
            "Batch 200, training accuracy 88.0%, training loss 0.342560\n",
            "Batch 300, training accuracy 86.0%, training loss 0.549440\n",
            "Batch 400, training accuracy 88.0%, training loss 0.538355\n",
            "Batch 500, training accuracy 88.0%, training loss 0.364041\n",
            "Batch 600, training accuracy 82.0%, training loss 0.459302\n",
            "Batch 700, training accuracy 86.0%, training loss 0.316574\n",
            "Batch 800, training accuracy 94.0%, training loss 0.177902\n",
            "Batch 900, training accuracy 94.0%, training loss 0.196890\n",
            "Best model: validation accuracy 93.9%, validation loss 0.210774\n"
          ]
        },
        {
          "output_type": "display_data",
          "data": {
            "text/plain": [
              "<Figure size 576x576 with 2 Axes>"
            ],
            "image/png": "[encoded data removed]"
          },
          "metadata": {
            "needs_background": "light"
          }
        }
      ],
      "source": [
        "best_model_mlp, valid_acc_list_mlp, valid_loss_list_mlp = train_model(model_mlp, optim_mlp, loss_fn_mlp, batch_size = 50)"
      ]
    },
    {
      "cell_type": "markdown",
      "source": [
        "Compute accuracy on the test set."
      ],
      "metadata": {
        "id": "NCWrIC3C8bJo"
      }
    },
    {
      "cell_type": "code",
      "source": [
        "accuracy_test(best_model_mlp, batch_size = 50)"
      ],
      "metadata": {
        "colab": {
          "base_uri": "https://localhost:8080/"
        },
        "id": "6grwPhx9G5v1",
        "outputId": "79272729-4031-4115-88aa-4fa030573031"
      },
      "execution_count": 19,
      "outputs": [
        {
          "output_type": "stream",
          "name": "stdout",
          "text": [
            "The accuracy of the model is 92.3%\n"
          ]
        }
      ]
    },
    {
      "cell_type": "markdown",
      "source": [
        "Print out some test images and the corresponding predictions made by the network."
      ],
      "metadata": {
        "id": "7RNQKLBJE9v7"
      }
    },
    {
      "cell_type": "code",
      "source": [
        "plot_test_images(best_model_mlp)"
      ],
      "metadata": {
        "colab": {
          "base_uri": "https://localhost:8080/",
          "height": 1000
        },
        "id": "egiXjU4eE-gX",
        "outputId": "83048ed9-74dd-4c5c-8e10-d22bd6046087"
      },
      "execution_count": 20,
      "outputs": [
        {
          "output_type": "display_data",
          "data": {
            "text/plain": [
              "<Figure size 432x288 with 1 Axes>"
            ],
            "image/png": "[encoded data removed]"
          },
          "metadata": {
            "needs_background": "light"
          }
        },
        {
          "output_type": "stream",
          "name": "stdout",
          "text": [
            "Label: 8\n",
            "Class probabilities: 1.175e-01, 9.328e-06, 1.945e-02, 3.122e-02, 1.288e-04, 2.385e-01, 3.491e-03, 3.293e-05, 5.863e-01, 3.363e-03\n",
            "Predicted class: 8\n"
          ]
        },
        {
          "output_type": "display_data",
          "data": {
            "text/plain": [
              "<Figure size 432x288 with 1 Axes>"
            ],
            "image/png": "[encoded data removed]"
          },
          "metadata": {
            "needs_background": "light"
          }
        },
        {
          "output_type": "stream",
          "name": "stdout",
          "text": [
            "Label: 1\n",
            "Class probabilities: 8.788e-06, 9.542e-01, 7.728e-03, 4.456e-04, 7.373e-06, 3.026e-04, 1.403e-02, 3.721e-05, 2.319e-02, 7.226e-06\n",
            "Predicted class: 1\n"
          ]
        },
        {
          "output_type": "display_data",
          "data": {
            "text/plain": [
              "<Figure size 432x288 with 1 Axes>"
            ],
            "image/png": "[encoded data removed]"
          },
          "metadata": {
            "needs_background": "light"
          }
        },
        {
          "output_type": "stream",
          "name": "stdout",
          "text": [
            "Label: 7\n",
            "Class probabilities: 1.469e-05, 1.738e-06, 5.512e-05, 1.545e-03, 1.796e-06, 2.680e-05, 8.191e-07, 9.943e-01, 2.309e-06, 4.091e-03\n",
            "Predicted class: 7\n"
          ]
        },
        {
          "output_type": "display_data",
          "data": {
            "text/plain": [
              "<Figure size 432x288 with 1 Axes>"
            ],
            "image/png": "[encoded data removed]"
          },
          "metadata": {
            "needs_background": "light"
          }
        },
        {
          "output_type": "stream",
          "name": "stdout",
          "text": [
            "Label: 2\n",
            "Class probabilities: 3.664e-05, 1.440e-06, 9.978e-01, 2.936e-04, 7.421e-05, 7.967e-06, 1.196e-05, 3.792e-05, 3.896e-06, 1.729e-03\n",
            "Predicted class: 2\n"
          ]
        },
        {
          "output_type": "display_data",
          "data": {
            "text/plain": [
              "<Figure size 432x288 with 1 Axes>"
            ],
            "image/png": "[encoded data removed]"
          },
          "metadata": {
            "needs_background": "light"
          }
        },
        {
          "output_type": "stream",
          "name": "stdout",
          "text": [
            "Label: 1\n",
            "Class probabilities: 6.829e-05, 9.890e-01, 3.696e-03, 1.335e-03, 5.851e-05, 2.731e-04, 1.919e-04, 2.393e-04, 5.080e-03, 1.762e-05\n",
            "Predicted class: 1\n"
          ]
        },
        {
          "output_type": "display_data",
          "data": {
            "text/plain": [
              "<Figure size 432x288 with 1 Axes>"
            ],
            "image/png": "[encoded data removed]"
          },
          "metadata": {
            "needs_background": "light"
          }
        },
        {
          "output_type": "stream",
          "name": "stdout",
          "text": [
            "Label: 8\n",
            "Class probabilities: 2.174e-06, 9.490e-05, 8.736e-06, 3.206e-03, 2.151e-01, 3.346e-03, 2.101e-04, 3.665e-02, 7.393e-01, 2.096e-03\n",
            "Predicted class: 8\n"
          ]
        },
        {
          "output_type": "display_data",
          "data": {
            "text/plain": [
              "<Figure size 432x288 with 1 Axes>"
            ],
            "image/png": "[encoded data removed]"
          },
          "metadata": {
            "needs_background": "light"
          }
        },
        {
          "output_type": "stream",
          "name": "stdout",
          "text": [
            "Label: 7\n",
            "Class probabilities: 3.982e-05, 1.125e-05, 6.738e-07, 1.373e-04, 3.017e-03, 2.038e-03, 2.873e-06, 9.930e-01, 1.276e-04, 1.603e-03\n",
            "Predicted class: 7\n"
          ]
        },
        {
          "output_type": "display_data",
          "data": {
            "text/plain": [
              "<Figure size 432x288 with 1 Axes>"
            ],
            "image/png": "[encoded data removed]"
          },
          "metadata": {
            "needs_background": "light"
          }
        },
        {
          "output_type": "stream",
          "name": "stdout",
          "text": [
            "Label: 8\n",
            "Class probabilities: 1.083e-04, 2.930e-04, 3.161e-03, 6.581e-04, 7.739e-03, 1.290e-02, 4.266e-04, 2.895e-04, 9.602e-01, 1.424e-02\n",
            "Predicted class: 8\n"
          ]
        },
        {
          "output_type": "display_data",
          "data": {
            "text/plain": [
              "<Figure size 432x288 with 1 Axes>"
            ],
            "image/png": "[encoded data removed]"
          },
          "metadata": {
            "needs_background": "light"
          }
        },
        {
          "output_type": "stream",
          "name": "stdout",
          "text": [
            "Label: 7\n",
            "Class probabilities: 2.403e-05, 8.297e-08, 1.233e-07, 4.911e-06, 4.315e-04, 1.418e-04, 4.579e-06, 9.694e-01, 2.462e-06, 3.002e-02\n",
            "Predicted class: 7\n"
          ]
        },
        {
          "output_type": "display_data",
          "data": {
            "text/plain": [
              "<Figure size 432x288 with 1 Axes>"
            ],
            "image/png": "[encoded data removed]"
          },
          "metadata": {
            "needs_background": "light"
          }
        },
        {
          "output_type": "stream",
          "name": "stdout",
          "text": [
            "Label: 0\n",
            "Class probabilities: 1.000e+00, 6.569e-08, 1.301e-05, 1.846e-07, 1.439e-10, 2.526e-05, 2.866e-06, 3.642e-09, 1.798e-07, 3.334e-06\n",
            "Predicted class: 0\n"
          ]
        }
      ]
    },
    {
      "cell_type": "markdown",
      "metadata": {
        "id": "iPEZ-b_Qa3wD"
      },
      "source": [
        "## A Simple Convolutional Neural Network"
      ]
    },
    {
      "cell_type": "markdown",
      "source": [
        "Here we make our first CNN. It's quite simple network, but it's surprisingly good at this handwritten digit recognition task. This a variant on Yann LeCun's CNN network that really helped to move deep learning forward.\n",
        "\n",
        "Note that the weights are are distributed according to a standard normal distribution (mean = 0, std = 0.1). This random initialization helps avoid hidden units get stuck together, as units that start with the same value will be updated identically in the non-convolutional layers. In contrast, the bias variables are set to a small positive number--this is help prevent hidden units from starting out and getting stuck in the zero part of the ReLU.\n",
        "\n",
        "The convolution will use a 5x5 kernel and will pad the image with zeros around the edges and use a stride of 1 pixel so that the resulting image (after convolution) has the same size as the original input image. The network will learn the weights for a stack of 32 separate kernels along with 32 bias variables. Finally, after the ReLU is performed the result will undergo 2x2 max pooling, thus halving both dimensions of the image. The choices for the stride, padding, and pooling are not parameters that the network needs to estimate. Rather these are termed \"hyperparamters\" that are usually set by the network designer.\n",
        "\n",
        "The second layer will have to process 32 feature images coming out of the first layer. Note that the images input to this layer have $\\frac{1}{4}$ the number of pixels as the original input images due to the 2x2 pooling in the previous layer. Note that convolution layer NOT fully connected as our previous hidden layers have been. A unit in the output layer has a limited \"receptive field.\" Its connections to the input layer are spatially limited by the kernel (or filter) size. Also, because of weight sharing in convolutional layers, the number of parameters for a convolutional is the size of the kernel x the depth of the input layer x depth of the output layer + depth of the output layer. So for the second layer of our ConvNet, we have 5 x 5 x 32 x 64 + 64 = 51,264 parameters.\n",
        "\n",
        "After the pooling stage of our second convolutional layer, we have 64 7x7 \"feature\" images. In one penultimate fully connected hidden layer, we are going to map these feature imges to a 1024 dimensional feature space. Note we need to flatten these feature images to do this.\n",
        "\n",
        "Dropout is added as well, although it is not really needed for such small network.\n",
        "\n",
        "We have a final linear output layer mapping features to scores topped off with a softmax cross entropy loss function, as explained earlier."
      ],
      "metadata": {
        "id": "jCS_63TZea7f"
      }
    },
    {
      "cell_type": "code",
      "source": [
        "# Define the CNN as a Torch module\n",
        "class CNNModel(torch.nn.Module):\n",
        "  def __init__(self):\n",
        "      # Run the init of the parent class\n",
        "      super(CNNModel, self).__init__()\n",
        "      # Convolutional layers\n",
        "      self.conv1 = torch.nn.Conv2d(in_channels = 1, out_channels = 32, kernel_size = 5, padding = 2, stride = 1, bias = True)\n",
        "      self.conv2 = torch.nn.Conv2d(in_channels = 32, out_channels = 64, kernel_size = 5, stride = 1, padding = 2, bias = True)\n",
        "      # Fully connected linear layers\n",
        "      self.fc1 = torch.nn.Linear(3136, 1024, bias = True)\n",
        "      self.fc2 = torch.nn.Linear(1024, 10, bias = True)\n",
        "      # Dropout layer\n",
        "      self.Dropout = torch.nn.Dropout(p = 0.5) # Create the dropout layer\n",
        "\n",
        "  def forward(self, x):\n",
        "      # Convolutional layer 1, ReLU, and pooling\n",
        "      x = F.max_pool2d(F.relu(self.conv1(x)), kernel_size = (2), stride = (2), padding = 0)\n",
        "      # Convolutional layer 2, ReLU, and pooling\n",
        "      x = F.max_pool2d(F.relu(self.conv2(x)), kernel_size = (2), stride = (2), padding = 0)\n",
        "      # Flatten the image\n",
        "      x = x.view(-1, 3136)\n",
        "      # First fully connected layer\n",
        "      x = F.relu(self.fc1(x))\n",
        "      # Dropout layer\n",
        "      x = self.Dropout(x)\n",
        "      # Second fully connected layer\n",
        "      x = self.fc2(x)\n",
        "      # Done\n",
        "      return x"
      ],
      "metadata": {
        "id": "RQASwUiseyOw"
      },
      "execution_count": 21,
      "outputs": []
    },
    {
      "cell_type": "markdown",
      "source": [
        "Assemble the model. Use cross entropy loss as before. For training, we choose an Adam learning rate and update rule."
      ],
      "metadata": {
        "id": "uexwPQK4GKrW"
      }
    },
    {
      "cell_type": "code",
      "source": [
        "model_cnn = CNNModel()\n",
        "loss_fn_cnn = torch.nn.CrossEntropyLoss()\n",
        "optim_cnn = torch.optim.Adam(model_cnn.parameters(), lr = 1e-4)"
      ],
      "metadata": {
        "id": "bWCurNSrpMt1"
      },
      "execution_count": 26,
      "outputs": []
    },
    {
      "cell_type": "markdown",
      "source": [
        "Train the model."
      ],
      "metadata": {
        "id": "12hpDUsvG4V-"
      }
    },
    {
      "cell_type": "code",
      "source": [
        "best_model_cnn, valid_acc_list_cnn, valid_loss_list_cnn = train_model(model_cnn, optim_cnn, loss_fn_cnn, batch_size = 50, format_cnn = True)"
      ],
      "metadata": {
        "colab": {
          "base_uri": "https://localhost:8080/",
          "height": 693
        },
        "id": "A-0D7a63Wui9",
        "outputId": "a4c38bc9-1864-436b-bfb0-55e9ac9f2301"
      },
      "execution_count": 27,
      "outputs": [
        {
          "output_type": "stream",
          "name": "stdout",
          "text": [
            "Batch 0, training accuracy 12.0%, training loss 2.315898\n",
            "Batch 100, training accuracy 86.0%, training loss 0.448477\n",
            "Batch 200, training accuracy 92.0%, training loss 0.285947\n",
            "Batch 300, training accuracy 94.0%, training loss 0.165569\n",
            "Batch 400, training accuracy 94.0%, training loss 0.152255\n",
            "Batch 500, training accuracy 98.0%, training loss 0.121800\n",
            "Batch 600, training accuracy 96.0%, training loss 0.126298\n",
            "Batch 700, training accuracy 96.0%, training loss 0.127581\n",
            "Batch 800, training accuracy 94.0%, training loss 0.217817\n",
            "Batch 900, training accuracy 98.0%, training loss 0.086537\n",
            "Best model: validation accuracy 97.9%, validation loss 0.083711\n"
          ]
        },
        {
          "output_type": "display_data",
          "data": {
            "text/plain": [
              "<Figure size 576x576 with 2 Axes>"
            ],
            "image/png": "[encoded data removed]"
          },
          "metadata": {
            "needs_background": "light"
          }
        }
      ]
    },
    {
      "cell_type": "markdown",
      "source": [
        "Compute accuracy on the test set."
      ],
      "metadata": {
        "id": "xtna1PxuKPiP"
      }
    },
    {
      "cell_type": "code",
      "source": [
        "accuracy_test(best_model_cnn, batch_size = 50, format_cnn = True)"
      ],
      "metadata": {
        "colab": {
          "base_uri": "https://localhost:8080/"
        },
        "id": "6TFSnMVvWwN_",
        "outputId": "c2700a77-1a02-4071-c73e-e465d3a8e23a"
      },
      "execution_count": 28,
      "outputs": [
        {
          "output_type": "stream",
          "name": "stdout",
          "text": [
            "The accuracy of the model is 97.3%\n"
          ]
        }
      ]
    },
    {
      "cell_type": "markdown",
      "source": [
        "Print out some test images and the corresponding predictions made by the network."
      ],
      "metadata": {
        "id": "e6WAedLHKYKq"
      }
    },
    {
      "cell_type": "code",
      "source": [
        "plot_test_images(best_model_cnn, format_cnn = True)"
      ],
      "metadata": {
        "colab": {
          "base_uri": "https://localhost:8080/",
          "height": 1000
        },
        "id": "hGgKaF2VWy07",
        "outputId": "a4f9cbae-e58f-4726-e46e-f36be104562f"
      },
      "execution_count": 29,
      "outputs": [
        {
          "output_type": "display_data",
          "data": {
            "text/plain": [
              "<Figure size 432x288 with 1 Axes>"
            ],
            "image/png": "[encoded data removed]"
          },
          "metadata": {
            "needs_background": "light"
          }
        },
        {
          "output_type": "stream",
          "name": "stdout",
          "text": [
            "Label: 1\n",
            "Class probabilities: 1.721e-04, 9.873e-01, 2.571e-03, 3.097e-04, 5.047e-04, 2.025e-06, 9.137e-05, 7.192e-04, 8.222e-03, 1.163e-04\n",
            "Predicted class: 1\n"
          ]
        },
        {
          "output_type": "display_data",
          "data": {
            "text/plain": [
              "<Figure size 432x288 with 1 Axes>"
            ],
            "image/png": "[encoded data removed]"
          },
          "metadata": {
            "needs_background": "light"
          }
        },
        {
          "output_type": "stream",
          "name": "stdout",
          "text": [
            "Label: 7\n",
            "Class probabilities: 1.886e-05, 1.250e-05, 1.847e-05, 3.440e-05, 1.165e-05, 3.851e-06, 2.001e-08, 9.984e-01, 1.365e-06, 1.544e-03\n",
            "Predicted class: 7\n"
          ]
        },
        {
          "output_type": "display_data",
          "data": {
            "text/plain": [
              "<Figure size 432x288 with 1 Axes>"
            ],
            "image/png": "[encoded data removed]"
          },
          "metadata": {
            "needs_background": "light"
          }
        },
        {
          "output_type": "stream",
          "name": "stdout",
          "text": [
            "Label: 7\n",
            "Class probabilities: 5.539e-06, 8.596e-05, 3.797e-05, 1.840e-04, 1.251e-05, 6.084e-07, 1.845e-08, 9.966e-01, 3.027e-05, 3.056e-03\n",
            "Predicted class: 7\n"
          ]
        },
        {
          "output_type": "display_data",
          "data": {
            "text/plain": [
              "<Figure size 432x288 with 1 Axes>"
            ],
            "image/png": "[encoded data removed]"
          },
          "metadata": {
            "needs_background": "light"
          }
        },
        {
          "output_type": "stream",
          "name": "stdout",
          "text": [
            "Label: 6\n",
            "Class probabilities: 5.348e-05, 3.021e-09, 1.950e-06, 2.377e-08, 3.436e-06, 5.946e-05, 9.999e-01, 1.600e-10, 1.529e-05, 1.314e-07\n",
            "Predicted class: 6\n"
          ]
        },
        {
          "output_type": "display_data",
          "data": {
            "text/plain": [
              "<Figure size 432x288 with 1 Axes>"
            ],
            "image/png": "[encoded data removed]"
          },
          "metadata": {
            "needs_background": "light"
          }
        },
        {
          "output_type": "stream",
          "name": "stdout",
          "text": [
            "Label: 1\n",
            "Class probabilities: 8.642e-04, 9.495e-01, 9.983e-04, 2.644e-03, 1.585e-02, 7.696e-05, 4.396e-04, 2.819e-02, 3.575e-04, 1.035e-03\n",
            "Predicted class: 1\n"
          ]
        },
        {
          "output_type": "display_data",
          "data": {
            "text/plain": [
              "<Figure size 432x288 with 1 Axes>"
            ],
            "image/png": "[encoded data removed]"
          },
          "metadata": {
            "needs_background": "light"
          }
        },
        {
          "output_type": "stream",
          "name": "stdout",
          "text": [
            "Label: 0\n",
            "Class probabilities: 9.992e-01, 2.583e-07, 1.044e-04, 1.905e-05, 1.546e-06, 1.141e-05, 9.525e-05, 2.986e-05, 2.451e-05, 4.770e-04\n",
            "Predicted class: 0\n"
          ]
        },
        {
          "output_type": "display_data",
          "data": {
            "text/plain": [
              "<Figure size 432x288 with 1 Axes>"
            ],
            "image/png": "[encoded data removed]"
          },
          "metadata": {
            "needs_background": "light"
          }
        },
        {
          "output_type": "stream",
          "name": "stdout",
          "text": [
            "Label: 8\n",
            "Class probabilities: 1.369e-01, 2.363e-06, 1.390e-03, 4.288e-02, 3.536e-04, 5.772e-03, 1.545e-02, 2.005e-06, 7.783e-01, 1.894e-02\n",
            "Predicted class: 8\n"
          ]
        },
        {
          "output_type": "display_data",
          "data": {
            "text/plain": [
              "<Figure size 432x288 with 1 Axes>"
            ],
            "image/png": "[encoded data removed]"
          },
          "metadata": {
            "needs_background": "light"
          }
        },
        {
          "output_type": "stream",
          "name": "stdout",
          "text": [
            "Label: 8\n",
            "Class probabilities: 6.333e-01, 5.859e-06, 5.034e-04, 5.223e-03, 1.040e-03, 3.672e-03, 9.887e-02, 7.729e-06, 2.552e-01, 2.235e-03\n",
            "Predicted class: 0\n"
          ]
        },
        {
          "output_type": "display_data",
          "data": {
            "text/plain": [
              "<Figure size 432x288 with 1 Axes>"
            ],
            "image/png": "[encoded data removed]"
          },
          "metadata": {
            "needs_background": "light"
          }
        },
        {
          "output_type": "stream",
          "name": "stdout",
          "text": [
            "Label: 7\n",
            "Class probabilities: 5.532e-07, 1.514e-04, 3.185e-04, 1.522e-02, 5.668e-05, 6.536e-04, 1.033e-07, 9.582e-01, 6.594e-04, 2.477e-02\n",
            "Predicted class: 7\n"
          ]
        },
        {
          "output_type": "display_data",
          "data": {
            "text/plain": [
              "<Figure size 432x288 with 1 Axes>"
            ],
            "image/png": "[encoded data removed]"
          },
          "metadata": {
            "needs_background": "light"
          }
        },
        {
          "output_type": "stream",
          "name": "stdout",
          "text": [
            "Label: 2\n",
            "Class probabilities: 2.450e-04, 2.449e-02, 9.326e-01, 1.073e-02, 2.281e-02, 3.543e-04, 2.488e-03, 3.575e-03, 2.648e-03, 5.202e-05\n",
            "Predicted class: 2\n"
          ]
        }
      ]
    }
  ],
  "metadata": {
    "kernelspec": {
      "display_name": "Python 2",
      "language": "python",
      "name": "python2"
    },
    "language_info": {
      "codemirror_mode": {
        "name": "ipython",
        "version": 2
      },
      "file_extension": ".py",
      "mimetype": "text/x-python",
      "name": "python",
      "nbconvert_exporter": "python",
      "pygments_lexer": "ipython2",
      "version": "2.7.13"
    },
    "colab": {
      "provenance": [],
      "collapsed_sections": []
    }
  },
  "nbformat": 4,
  "nbformat_minor": 0
}